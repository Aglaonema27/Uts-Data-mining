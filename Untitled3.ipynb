{
 "cells": [
  {
   "cell_type": "code",
   "execution_count": 1,
   "id": "d39652d0",
   "metadata": {},
   "outputs": [],
   "source": [
    "# data\n",
    "\n",
    "company_name_list = [{'name': 'Company 1'},\n",
    "          {'name': 'Company 2'},\n",
    "          {'name': 'Company 3'}]\n",
    "\n",
    "employee_name_list = [{'name': 'John Doe'},\n",
    "          {'name': 'Tom Smith'},\n",
    "          {'name': 'Andrew Sebastian'}]\n",
    "\n",
    "company_detail_list = {\n",
    "      'Company 1': {\n",
    "          'name': 'Company 1',\n",
    "          'domain': 'Retail',\n",
    "          'clients': [\n",
    "              {\n",
    "                  'name': 'acme.inc',\n",
    "                  'country': 'united states'\n",
    "              },\n",
    "              {\n",
    "                  'name': 'Wayne.co',\n",
    "                  'country': 'united states'\n",
    "              }\n",
    "          ]\n",
    "      },\n",
    "      'Company 2': {\n",
    "          'name': 'Company 2',\n",
    "          'domain': 'Construction',\n",
    "          'clients': [\n",
    "              {\n",
    "                  'name': 'Tesla',\n",
    "                  'country': 'united states'\n",
    "              },\n",
    "              {\n",
    "                  'name': 'Japan Airlines',\n",
    "                  'country': 'japan'\n",
    "              },\n",
    "              {\n",
    "                  'name': 'Indofood',\n",
    "                  'country': 'indonesia'\n",
    "              }\n",
    "          ]\n",
    "      },\n",
    "      'Company 3': {\n",
    "          'name': 'Company 3',\n",
    "          'domain': 'Healthcare',\n",
    "          'clients': [\n",
    "              {\n",
    "                  'name': 'Petronas',\n",
    "                  'country': 'malaysia'\n",
    "              },\n",
    "              {\n",
    "                  'name': 'VW Group',\n",
    "                  'country': 'germany'\n",
    "              },\n",
    "              {\n",
    "                  'name': 'IBM',\n",
    "                  'country': 'united states'\n",
    "              },\n",
    "              {\n",
    "                  'name': 'Mitsubishi',\n",
    "                  'country': 'japan'\n",
    "              }\n",
    "          ]\n",
    "      }\n",
    "  }\n",
    "\n",
    "employee_detail_list = {\n",
    "      'John Doe': {\n",
    "          'name': 'EMP-0001',\n",
    "          'first_name': 'John',\n",
    "          'last_name': 'Doe',\n",
    "          'full_name': 'John Doe',\n",
    "          'company': 'Company 1'\n",
    "      },\n",
    "      'Tom Smith': {\n",
    "          'name': 'EMP-0002',\n",
    "          'first_name': 'Tom',\n",
    "          'last_name': 'Smith',\n",
    "          'full_name': 'Tom Smith',\n",
    "          'company': 'Company 2'\n",
    "      },\n",
    "      'Andrew Sebastian': {\n",
    "          'name': 'EMP-0003',\n",
    "          'first_name': 'Andrew',\n",
    "          'last_name': 'Sebastian',\n",
    "          'full_name': 'Andrew Sebastian',\n",
    "          'company': 'Company 2'\n",
    "      },\n",
    "  }"
   ]
  },
  {
   "cell_type": "code",
   "execution_count": 2,
   "id": "121879cd",
   "metadata": {},
   "outputs": [],
   "source": [
    "# data\n",
    "\n",
    "company_name_list = [{'name': 'Company 1'},\n",
    "          {'name': 'Company 2'},\n",
    "          {'name': 'Company 3'}]\n",
    "\n",
    "employee_name_list = [{'name': 'John Doe'},\n",
    "          {'name': 'Tom Smith'},\n",
    "          {'name': 'Andrew Sebastian'}]\n",
    "\n",
    "company_detail_list = {\n",
    "      'Company 1': {\n",
    "          'name': 'Company 1',\n",
    "          'domain': 'Retail',\n",
    "          'clients': [\n",
    "              {\n",
    "                  'name': 'acme.inc',\n",
    "                  'country': 'united states'\n",
    "              },\n",
    "              {\n",
    "                  'name': 'Wayne.co',\n",
    "                  'country': 'united states'\n",
    "              }\n",
    "          ]\n",
    "      },\n",
    "      'Company 2': {\n",
    "          'name': 'Company 2',\n",
    "          'domain': 'Construction',\n",
    "          'clients': [\n",
    "              {\n",
    "                  'name': 'Tesla',\n",
    "                  'country': 'united states'\n",
    "              },\n",
    "              {\n",
    "                  'name': 'Japan Airlines',\n",
    "                  'country': 'japan'\n",
    "              },\n",
    "              {\n",
    "                  'name': 'Indofood',\n",
    "                  'country': 'indonesia'\n",
    "              }\n",
    "          ]\n",
    "      },\n",
    "      'Company 3': {\n",
    "          'name': 'Company 3',\n",
    "          'domain': 'Healthcare',\n",
    "          'clients': [\n",
    "              {\n",
    "                  'name': 'Petronas',\n",
    "                  'country': 'malaysia'\n",
    "              },\n",
    "              {\n",
    "                  'name': 'VW Group',\n",
    "                  'country': 'germany'\n",
    "              },\n",
    "              {\n",
    "                  'name': 'IBM',\n",
    "                  'country': 'united states'\n",
    "              },\n",
    "              {\n",
    "                  'name': 'Mitsubishi',\n",
    "                  'country': 'japan'\n",
    "              }\n",
    "          ]\n",
    "      }\n",
    "  }\n",
    "\n",
    "employee_detail_list = {\n",
    "      'John Doe': {\n",
    "          'name': 'EMP-0001',\n",
    "          'first_name': 'John',\n",
    "          'last_name': 'Doe',\n",
    "          'full_name': 'John Doe',\n",
    "          'company': 'Company 1'\n",
    "      },\n",
    "      'Tom Smith': {\n",
    "          'name': 'EMP-0002',\n",
    "          'first_name': 'Tom',\n",
    "          'last_name': 'Smith',\n",
    "          'full_name': 'Tom Smith',\n",
    "          'company': 'Company 2'\n",
    "      },\n",
    "      'Andrew Sebastian': {\n",
    "          'name': 'EMP-0003',\n",
    "          'first_name': 'Andrew',\n",
    "          'last_name': 'Sebastian',\n",
    "          'full_name': 'Andrew Sebastian',\n",
    "          'company': 'Company 2'\n",
    "      },\n",
    "  }"
   ]
  },
  {
   "cell_type": "code",
   "execution_count": 3,
   "id": "25f8401a",
   "metadata": {},
   "outputs": [
    {
     "ename": "KeyError",
     "evalue": "'name'",
     "output_type": "error",
     "traceback": [
      "\u001b[1;31m---------------------------------------------------------------------------\u001b[0m",
      "\u001b[1;31mKeyError\u001b[0m                                  Traceback (most recent call last)",
      "Cell \u001b[1;32mIn[3], line 16\u001b[0m\n\u001b[0;32m      3\u001b[0m     \u001b[38;5;28;01mreturn\u001b[39;00m sorted_companies\n\u001b[0;32m      5\u001b[0m companies \u001b[38;5;241m=\u001b[39m [{\n\u001b[0;32m      6\u001b[0m     \u001b[38;5;124m\"\u001b[39m\u001b[38;5;124mname\u001b[39m\u001b[38;5;124m\"\u001b[39m: \u001b[38;5;124m\"\u001b[39m\u001b[38;5;124mCompany 1\u001b[39m\u001b[38;5;124m\"\u001b[39m,\n\u001b[0;32m      7\u001b[0m     \u001b[38;5;124m\"\u001b[39m\u001b[38;5;124mAlfamart\u001b[39m\u001b[38;5;124m\"\u001b[39m: \u001b[38;5;124m\"\u001b[39m\u001b[38;5;124mRetail\u001b[39m\u001b[38;5;124m\"\u001b[39m\n\u001b[1;32m   (...)\u001b[0m\n\u001b[0;32m     13\u001b[0m     \u001b[38;5;124m\"\u001b[39m\u001b[38;5;124mdomain\u001b[39m\u001b[38;5;124m\"\u001b[39m: \u001b[38;5;124m\"\u001b[39m\u001b[38;5;124mConstruction\u001b[39m\u001b[38;5;124m\"\u001b[39m\n\u001b[0;32m     14\u001b[0m }]\n\u001b[1;32m---> 16\u001b[0m sorted_companies \u001b[38;5;241m=\u001b[39m \u001b[43msort_company\u001b[49m\u001b[43m(\u001b[49m\u001b[43mcompanies\u001b[49m\u001b[43m)\u001b[49m\n\u001b[0;32m     17\u001b[0m \u001b[38;5;28mprint\u001b[39m(sorted_companies)\n",
      "Cell \u001b[1;32mIn[3], line 2\u001b[0m, in \u001b[0;36msort_company\u001b[1;34m(companies)\u001b[0m\n\u001b[0;32m      1\u001b[0m \u001b[38;5;28;01mdef\u001b[39;00m \u001b[38;5;21msort_company\u001b[39m(companies):\n\u001b[1;32m----> 2\u001b[0m     sorted_companies \u001b[38;5;241m=\u001b[39m \u001b[38;5;28;43msorted\u001b[39;49m\u001b[43m(\u001b[49m\u001b[43mcompanies\u001b[49m\u001b[43m,\u001b[49m\u001b[43m \u001b[49m\u001b[43mkey\u001b[49m\u001b[38;5;241;43m=\u001b[39;49m\u001b[38;5;28;43;01mlambda\u001b[39;49;00m\u001b[43m \u001b[49m\u001b[43mx\u001b[49m\u001b[43m:\u001b[49m\u001b[43m \u001b[49m\u001b[43mx\u001b[49m\u001b[43m[\u001b[49m\u001b[38;5;124;43m'\u001b[39;49m\u001b[38;5;124;43mname\u001b[39;49m\u001b[38;5;124;43m'\u001b[39;49m\u001b[43m]\u001b[49m\u001b[43m)\u001b[49m\n\u001b[0;32m      3\u001b[0m     \u001b[38;5;28;01mreturn\u001b[39;00m sorted_companies\n",
      "Cell \u001b[1;32mIn[3], line 2\u001b[0m, in \u001b[0;36msort_company.<locals>.<lambda>\u001b[1;34m(x)\u001b[0m\n\u001b[0;32m      1\u001b[0m \u001b[38;5;28;01mdef\u001b[39;00m \u001b[38;5;21msort_company\u001b[39m(companies):\n\u001b[1;32m----> 2\u001b[0m     sorted_companies \u001b[38;5;241m=\u001b[39m \u001b[38;5;28msorted\u001b[39m(companies, key\u001b[38;5;241m=\u001b[39m\u001b[38;5;28;01mlambda\u001b[39;00m x: \u001b[43mx\u001b[49m\u001b[43m[\u001b[49m\u001b[38;5;124;43m'\u001b[39;49m\u001b[38;5;124;43mname\u001b[39;49m\u001b[38;5;124;43m'\u001b[39;49m\u001b[43m]\u001b[49m)\n\u001b[0;32m      3\u001b[0m     \u001b[38;5;28;01mreturn\u001b[39;00m sorted_companies\n",
      "\u001b[1;31mKeyError\u001b[0m: 'name'"
     ]
    }
   ],
   "source": [
    "def sort_company(companies):\n",
    "    sorted_companies = sorted(companies, key=lambda x: x['name'])\n",
    "    return sorted_companies\n",
    "\n",
    "companies = [{\n",
    "    \"name\": \"Company 1\",\n",
    "    \"Alfamart\": \"Retail\"\n",
    "}, {\n",
    "    \"name\": \"Company 3\",\n",
    "    \"Metro Hospital\": \"Healthcare\"\n",
    "}, {\n",
    "    \"adhi karya\": \"Company 2\",\n",
    "    \"domain\": \"Construction\"\n",
    "}]\n",
    "\n",
    "sorted_companies = sort_company(companies)\n",
    "print(sorted_companies)\n"
   ]
  },
  {
   "cell_type": "code",
   "execution_count": 5,
   "id": "4f6e5800",
   "metadata": {},
   "outputs": [
    {
     "ename": "KeyError",
     "evalue": "'domain'",
     "output_type": "error",
     "traceback": [
      "\u001b[1;31m---------------------------------------------------------------------------\u001b[0m",
      "\u001b[1;31mKeyError\u001b[0m                                  Traceback (most recent call last)",
      "Cell \u001b[1;32mIn[5], line 11\u001b[0m\n\u001b[0;32m      3\u001b[0m     \u001b[38;5;28;01mreturn\u001b[39;00m [(company[\u001b[38;5;124m'\u001b[39m\u001b[38;5;124mname\u001b[39m\u001b[38;5;124m'\u001b[39m], company[\u001b[38;5;124m'\u001b[39m\u001b[38;5;124mdomain\u001b[39m\u001b[38;5;124m'\u001b[39m]) \u001b[38;5;28;01mfor\u001b[39;00m company \u001b[38;5;129;01min\u001b[39;00m sorted_companies]\n\u001b[0;32m      5\u001b[0m companies \u001b[38;5;241m=\u001b[39m [\n\u001b[0;32m      6\u001b[0m     {\u001b[38;5;124m\"\u001b[39m\u001b[38;5;124mname\u001b[39m\u001b[38;5;124m\"\u001b[39m: \u001b[38;5;124m\"\u001b[39m\u001b[38;5;124mCompany 1\u001b[39m\u001b[38;5;124m\"\u001b[39m, \u001b[38;5;124m\"\u001b[39m\u001b[38;5;124mAlfamart\u001b[39m\u001b[38;5;124m\"\u001b[39m: \u001b[38;5;124m\"\u001b[39m\u001b[38;5;124mRetail\u001b[39m\u001b[38;5;124m\"\u001b[39m},\n\u001b[0;32m      7\u001b[0m     {\u001b[38;5;124m\"\u001b[39m\u001b[38;5;124mname\u001b[39m\u001b[38;5;124m\"\u001b[39m: \u001b[38;5;124m\"\u001b[39m\u001b[38;5;124mCompany 3\u001b[39m\u001b[38;5;124m\"\u001b[39m, \u001b[38;5;124m\"\u001b[39m\u001b[38;5;124mmetro hospital\u001b[39m\u001b[38;5;124m\"\u001b[39m: \u001b[38;5;124m\"\u001b[39m\u001b[38;5;124mHealthcare\u001b[39m\u001b[38;5;124m\"\u001b[39m},\n\u001b[0;32m      8\u001b[0m     {\u001b[38;5;124m\"\u001b[39m\u001b[38;5;124mname\u001b[39m\u001b[38;5;124m\"\u001b[39m: \u001b[38;5;124m\"\u001b[39m\u001b[38;5;124mCompany 2\u001b[39m\u001b[38;5;124m\"\u001b[39m, \u001b[38;5;124m\"\u001b[39m\u001b[38;5;124mAdhi karya\u001b[39m\u001b[38;5;124m\"\u001b[39m: \u001b[38;5;124m\"\u001b[39m\u001b[38;5;124mConstruction\u001b[39m\u001b[38;5;124m\"\u001b[39m}\n\u001b[0;32m      9\u001b[0m ]\n\u001b[1;32m---> 11\u001b[0m sorted_companies \u001b[38;5;241m=\u001b[39m \u001b[43msort_company\u001b[49m\u001b[43m(\u001b[49m\u001b[43mcompanies\u001b[49m\u001b[43m)\u001b[49m\n\u001b[0;32m     12\u001b[0m \u001b[38;5;28mprint\u001b[39m(sorted_companies)\n",
      "Cell \u001b[1;32mIn[5], line 3\u001b[0m, in \u001b[0;36msort_company\u001b[1;34m(companies)\u001b[0m\n\u001b[0;32m      1\u001b[0m \u001b[38;5;28;01mdef\u001b[39;00m \u001b[38;5;21msort_company\u001b[39m(companies):\n\u001b[0;32m      2\u001b[0m     sorted_companies \u001b[38;5;241m=\u001b[39m \u001b[38;5;28msorted\u001b[39m(companies, key\u001b[38;5;241m=\u001b[39m\u001b[38;5;28;01mlambda\u001b[39;00m x: x[\u001b[38;5;124m'\u001b[39m\u001b[38;5;124mname\u001b[39m\u001b[38;5;124m'\u001b[39m])\n\u001b[1;32m----> 3\u001b[0m     \u001b[38;5;28;01mreturn\u001b[39;00m \u001b[43m[\u001b[49m\u001b[43m(\u001b[49m\u001b[43mcompany\u001b[49m\u001b[43m[\u001b[49m\u001b[38;5;124;43m'\u001b[39;49m\u001b[38;5;124;43mname\u001b[39;49m\u001b[38;5;124;43m'\u001b[39;49m\u001b[43m]\u001b[49m\u001b[43m,\u001b[49m\u001b[43m \u001b[49m\u001b[43mcompany\u001b[49m\u001b[43m[\u001b[49m\u001b[38;5;124;43m'\u001b[39;49m\u001b[38;5;124;43mdomain\u001b[39;49m\u001b[38;5;124;43m'\u001b[39;49m\u001b[43m]\u001b[49m\u001b[43m)\u001b[49m\u001b[43m \u001b[49m\u001b[38;5;28;43;01mfor\u001b[39;49;00m\u001b[43m \u001b[49m\u001b[43mcompany\u001b[49m\u001b[43m \u001b[49m\u001b[38;5;129;43;01min\u001b[39;49;00m\u001b[43m \u001b[49m\u001b[43msorted_companies\u001b[49m\u001b[43m]\u001b[49m\n",
      "Cell \u001b[1;32mIn[5], line 3\u001b[0m, in \u001b[0;36m<listcomp>\u001b[1;34m(.0)\u001b[0m\n\u001b[0;32m      1\u001b[0m \u001b[38;5;28;01mdef\u001b[39;00m \u001b[38;5;21msort_company\u001b[39m(companies):\n\u001b[0;32m      2\u001b[0m     sorted_companies \u001b[38;5;241m=\u001b[39m \u001b[38;5;28msorted\u001b[39m(companies, key\u001b[38;5;241m=\u001b[39m\u001b[38;5;28;01mlambda\u001b[39;00m x: x[\u001b[38;5;124m'\u001b[39m\u001b[38;5;124mname\u001b[39m\u001b[38;5;124m'\u001b[39m])\n\u001b[1;32m----> 3\u001b[0m     \u001b[38;5;28;01mreturn\u001b[39;00m [(company[\u001b[38;5;124m'\u001b[39m\u001b[38;5;124mname\u001b[39m\u001b[38;5;124m'\u001b[39m], \u001b[43mcompany\u001b[49m\u001b[43m[\u001b[49m\u001b[38;5;124;43m'\u001b[39;49m\u001b[38;5;124;43mdomain\u001b[39;49m\u001b[38;5;124;43m'\u001b[39;49m\u001b[43m]\u001b[49m) \u001b[38;5;28;01mfor\u001b[39;00m company \u001b[38;5;129;01min\u001b[39;00m sorted_companies]\n",
      "\u001b[1;31mKeyError\u001b[0m: 'domain'"
     ]
    }
   ],
   "source": [
    "def sort_company(companies):\n",
    "    sorted_companies = sorted(companies, key=lambda x: x['name'])\n",
    "    return [(company['name'], company['domain']) for company in sorted_companies]\n",
    "\n",
    "companies = [\n",
    "    {\"name\": \"Company 1\", \"Alfamart\": \"Retail\"},\n",
    "    {\"name\": \"Company 3\", \"metro hospital\": \"Healthcare\"},\n",
    "    {\"name\": \"Company 2\", \"Adhi karya\": \"Construction\"}\n",
    "]\n",
    "\n",
    "sorted_companies = sort_company(companies)\n",
    "print(sorted_companies)\n"
   ]
  },
  {
   "cell_type": "code",
   "execution_count": 6,
   "id": "01c0eef4",
   "metadata": {},
   "outputs": [
    {
     "name": "stdout",
     "output_type": "stream",
     "text": [
      "[{'name': 'Alfamart', 'domain': 'Retail'}, {'name': 'adhi karya', 'domain': 'Construction'}, {'name': 'metro hospital', 'domain': 'Healthcare'}]\n"
     ]
    }
   ],
   "source": [
    "def sort_company(companies):\n",
    "    sorted_companies = sorted(companies, key=lambda x: x['name'])\n",
    "    return sorted_companies\n",
    "\n",
    "companies = [{\n",
    "    \"name\": \"Alfamart\",\n",
    "    \"domain\": \"Retail\"\n",
    "}, {\n",
    "    \"name\": \"metro hospital\",\n",
    "    \"domain\": \"Healthcare\"\n",
    "}, {\n",
    "    \"name\": \"adhi karya\",\n",
    "    \"domain\": \"Construction\"\n",
    "}]\n",
    "\n",
    "sorted_companies = sort_company(companies)\n",
    "print(sorted_companies)\n"
   ]
  },
  {
   "cell_type": "code",
   "execution_count": 7,
   "id": "d427812f",
   "metadata": {},
   "outputs": [
    {
     "ename": "KeyError",
     "evalue": "'Alfamart'",
     "output_type": "error",
     "traceback": [
      "\u001b[1;31m---------------------------------------------------------------------------\u001b[0m",
      "\u001b[1;31mKeyError\u001b[0m                                  Traceback (most recent call last)",
      "Cell \u001b[1;32mIn[7], line 18\u001b[0m\n\u001b[0;32m     11\u001b[0m companies \u001b[38;5;241m=\u001b[39m [\n\u001b[0;32m     12\u001b[0m     {\u001b[38;5;124m\"\u001b[39m\u001b[38;5;124mname\u001b[39m\u001b[38;5;124m\"\u001b[39m: \u001b[38;5;124m\"\u001b[39m\u001b[38;5;124mAlfamart\u001b[39m\u001b[38;5;124m\"\u001b[39m, \u001b[38;5;124m\"\u001b[39m\u001b[38;5;124mdomain\u001b[39m\u001b[38;5;124m\"\u001b[39m: \u001b[38;5;124m\"\u001b[39m\u001b[38;5;124mRetail\u001b[39m\u001b[38;5;124m\"\u001b[39m},\n\u001b[0;32m     13\u001b[0m     {\u001b[38;5;124m\"\u001b[39m\u001b[38;5;124mname\u001b[39m\u001b[38;5;124m\"\u001b[39m: \u001b[38;5;124m\"\u001b[39m\u001b[38;5;124mmetro hospital\u001b[39m\u001b[38;5;124m\"\u001b[39m, \u001b[38;5;124m\"\u001b[39m\u001b[38;5;124mdomain\u001b[39m\u001b[38;5;124m\"\u001b[39m: \u001b[38;5;124m\"\u001b[39m\u001b[38;5;124mHealthcare\u001b[39m\u001b[38;5;124m\"\u001b[39m},\n\u001b[0;32m     14\u001b[0m     {\u001b[38;5;124m\"\u001b[39m\u001b[38;5;124mname\u001b[39m\u001b[38;5;124m\"\u001b[39m: \u001b[38;5;124m\"\u001b[39m\u001b[38;5;124mAdhi karya\u001b[39m\u001b[38;5;124m\"\u001b[39m, \u001b[38;5;124m\"\u001b[39m\u001b[38;5;124mdomain\u001b[39m\u001b[38;5;124m\"\u001b[39m: \u001b[38;5;124m\"\u001b[39m\u001b[38;5;124mConstruction\u001b[39m\u001b[38;5;124m\"\u001b[39m}\n\u001b[0;32m     15\u001b[0m ]\n\u001b[0;32m     17\u001b[0m \u001b[38;5;66;03m# Panggil fungsi dan cetak informasi perusahaan\u001b[39;00m\n\u001b[1;32m---> 18\u001b[0m company_info \u001b[38;5;241m=\u001b[39m \u001b[43mget_company_domain\u001b[49m\u001b[43m(\u001b[49m\u001b[43mcompanies\u001b[49m\u001b[43m)\u001b[49m\n\u001b[0;32m     19\u001b[0m \u001b[38;5;28;01mfor\u001b[39;00m info \u001b[38;5;129;01min\u001b[39;00m company_info:\n\u001b[0;32m     20\u001b[0m     \u001b[38;5;28mprint\u001b[39m(info)\n",
      "Cell \u001b[1;32mIn[7], line 6\u001b[0m, in \u001b[0;36mget_company_domain\u001b[1;34m(companies)\u001b[0m\n\u001b[0;32m      4\u001b[0m     company_name \u001b[38;5;241m=\u001b[39m company[\u001b[38;5;124m'\u001b[39m\u001b[38;5;124mname\u001b[39m\u001b[38;5;124m'\u001b[39m]\n\u001b[0;32m      5\u001b[0m     domain \u001b[38;5;241m=\u001b[39m company[\u001b[38;5;124m'\u001b[39m\u001b[38;5;124mdomain\u001b[39m\u001b[38;5;124m'\u001b[39m]\n\u001b[1;32m----> 6\u001b[0m     num_clients \u001b[38;5;241m=\u001b[39m \u001b[38;5;28mlen\u001b[39m(\u001b[43mcompany_detail_list\u001b[49m\u001b[43m[\u001b[49m\u001b[43mcompany_name\u001b[49m\u001b[43m]\u001b[49m[\u001b[38;5;124m'\u001b[39m\u001b[38;5;124mclients\u001b[39m\u001b[38;5;124m'\u001b[39m])\n\u001b[0;32m      7\u001b[0m     company_info\u001b[38;5;241m.\u001b[39mappend(\u001b[38;5;124mf\u001b[39m\u001b[38;5;124m\"\u001b[39m\u001b[38;5;132;01m{\u001b[39;00mcompany_name\u001b[38;5;132;01m}\u001b[39;00m\u001b[38;5;124m: \u001b[39m\u001b[38;5;132;01m{\u001b[39;00mdomain\u001b[38;5;132;01m}\u001b[39;00m\u001b[38;5;124m, relation: \u001b[39m\u001b[38;5;132;01m{\u001b[39;00mnum_clients\u001b[38;5;132;01m}\u001b[39;00m\u001b[38;5;124m clients\u001b[39m\u001b[38;5;124m\"\u001b[39m)\n\u001b[0;32m      8\u001b[0m \u001b[38;5;28;01mreturn\u001b[39;00m company_info\n",
      "\u001b[1;31mKeyError\u001b[0m: 'Alfamart'"
     ]
    }
   ],
   "source": [
    "def get_company_domain(companies):\n",
    "    company_info = []\n",
    "    for company in companies:\n",
    "        company_name = company['name']\n",
    "        domain = company['domain']\n",
    "        num_clients = len(company_detail_list[company_name]['clients'])\n",
    "        company_info.append(f\"{company_name}: {domain}, relation: {num_clients} clients\")\n",
    "    return company_info\n",
    "\n",
    "# Data perusahaan\n",
    "companies = [\n",
    "    {\"name\": \"Alfamart\", \"domain\": \"Retail\"},\n",
    "    {\"name\": \"metro hospital\", \"domain\": \"Healthcare\"},\n",
    "    {\"name\": \"Adhi karya\", \"domain\": \"Construction\"}\n",
    "]\n",
    "\n",
    "# Panggil fungsi dan cetak informasi perusahaan\n",
    "company_info = get_company_domain(companies)\n",
    "for info in company_info:\n",
    "    print(info)\n"
   ]
  },
  {
   "cell_type": "code",
   "execution_count": 8,
   "id": "570c3922",
   "metadata": {},
   "outputs": [
    {
     "name": "stdout",
     "output_type": "stream",
     "text": [
      "Company 1: Retail, relation: 2 clients\n",
      "Company 3: Healthcare, relation: 4 clients\n",
      "Company 2: Construction, relation: 3 clients\n"
     ]
    }
   ],
   "source": [
    "def get_company_domain(companies):\n",
    "    company_info = []\n",
    "    for company in companies:\n",
    "        company_name = company['name']\n",
    "        domain = company['domain']\n",
    "        num_clients = len(company_detail_list[company_name]['clients'])\n",
    "        company_info.append(f\"{company_name}: {domain}, relation: {num_clients} clients\")\n",
    "    return company_info\n",
    "\n",
    "# Data perusahaan\n",
    "companies = [\n",
    "    {\"name\": \"Company 1\", \"Alfamart\": \"Retail\"},\n",
    "    {\"name\": \"Company 3\", \"metro hospital\": \"Healthcare\"},\n",
    "    {\"name\": \"Company 2\", \"adhi karya\": \"Construction\"}\n",
    "]\n",
    "\n",
    "# Panggil fungsi dan cetak informasi perusahaan\n",
    "company_info = get_company_domain(companies)\n",
    "for info in company_info:\n",
    "    print(info)\n"
   ]
  },
  {
   "cell_type": "code",
   "execution_count": 9,
   "id": "25a1988e",
   "metadata": {},
   "outputs": [
    {
     "ename": "KeyError",
     "evalue": "'Company 1'",
     "output_type": "error",
     "traceback": [
      "\u001b[1;31m---------------------------------------------------------------------------\u001b[0m",
      "\u001b[1;31mKeyError\u001b[0m                                  Traceback (most recent call last)",
      "Cell \u001b[1;32mIn[9], line 17\u001b[0m\n\u001b[0;32m     10\u001b[0m companies \u001b[38;5;241m=\u001b[39m [\n\u001b[0;32m     11\u001b[0m     {\u001b[38;5;124m\"\u001b[39m\u001b[38;5;124mname\u001b[39m\u001b[38;5;124m\"\u001b[39m: \u001b[38;5;124m\"\u001b[39m\u001b[38;5;124mCompany 1\u001b[39m\u001b[38;5;124m\"\u001b[39m, \u001b[38;5;124m\"\u001b[39m\u001b[38;5;124mdomain\u001b[39m\u001b[38;5;124m\"\u001b[39m: \u001b[38;5;124m\"\u001b[39m\u001b[38;5;124mRetail\u001b[39m\u001b[38;5;124m\"\u001b[39m},  \u001b[38;5;66;03m# Menggunakan key 'domain' untuk menyimpan nilai domain\u001b[39;00m\n\u001b[0;32m     12\u001b[0m     {\u001b[38;5;124m\"\u001b[39m\u001b[38;5;124mname\u001b[39m\u001b[38;5;124m\"\u001b[39m: \u001b[38;5;124m\"\u001b[39m\u001b[38;5;124mCompany 3\u001b[39m\u001b[38;5;124m\"\u001b[39m, \u001b[38;5;124m\"\u001b[39m\u001b[38;5;124mdomain\u001b[39m\u001b[38;5;124m\"\u001b[39m: \u001b[38;5;124m\"\u001b[39m\u001b[38;5;124mHealthcare\u001b[39m\u001b[38;5;124m\"\u001b[39m},\n\u001b[0;32m     13\u001b[0m     {\u001b[38;5;124m\"\u001b[39m\u001b[38;5;124mname\u001b[39m\u001b[38;5;124m\"\u001b[39m: \u001b[38;5;124m\"\u001b[39m\u001b[38;5;124mCompany 2\u001b[39m\u001b[38;5;124m\"\u001b[39m, \u001b[38;5;124m\"\u001b[39m\u001b[38;5;124mdomain\u001b[39m\u001b[38;5;124m\"\u001b[39m: \u001b[38;5;124m\"\u001b[39m\u001b[38;5;124mConstruction\u001b[39m\u001b[38;5;124m\"\u001b[39m}\n\u001b[0;32m     14\u001b[0m ]\n\u001b[0;32m     16\u001b[0m \u001b[38;5;66;03m# Panggil fungsi dan cetak informasi perusahaan\u001b[39;00m\n\u001b[1;32m---> 17\u001b[0m company_info \u001b[38;5;241m=\u001b[39m \u001b[43mget_company_domain\u001b[49m\u001b[43m(\u001b[49m\u001b[43mcompanies\u001b[49m\u001b[43m)\u001b[49m\n\u001b[0;32m     18\u001b[0m \u001b[38;5;28;01mfor\u001b[39;00m info \u001b[38;5;129;01min\u001b[39;00m company_info:\n\u001b[0;32m     19\u001b[0m     \u001b[38;5;28mprint\u001b[39m(info)\n",
      "Cell \u001b[1;32mIn[9], line 5\u001b[0m, in \u001b[0;36mget_company_domain\u001b[1;34m(companies)\u001b[0m\n\u001b[0;32m      3\u001b[0m \u001b[38;5;28;01mfor\u001b[39;00m company \u001b[38;5;129;01min\u001b[39;00m companies:\n\u001b[0;32m      4\u001b[0m     company_name \u001b[38;5;241m=\u001b[39m company[\u001b[38;5;124m'\u001b[39m\u001b[38;5;124mname\u001b[39m\u001b[38;5;124m'\u001b[39m]\n\u001b[1;32m----> 5\u001b[0m     domain \u001b[38;5;241m=\u001b[39m \u001b[43mcompany\u001b[49m\u001b[43m[\u001b[49m\u001b[43mcompany_name\u001b[49m\u001b[43m]\u001b[49m  \u001b[38;5;66;03m# Menggunakan key yang sesuai untuk mendapatkan nilai domain\u001b[39;00m\n\u001b[0;32m      6\u001b[0m     company_info\u001b[38;5;241m.\u001b[39mappend(\u001b[38;5;124mf\u001b[39m\u001b[38;5;124m\"\u001b[39m\u001b[38;5;132;01m{\u001b[39;00mcompany_name\u001b[38;5;132;01m}\u001b[39;00m\u001b[38;5;124m: \u001b[39m\u001b[38;5;132;01m{\u001b[39;00mdomain\u001b[38;5;132;01m}\u001b[39;00m\u001b[38;5;124m\"\u001b[39m)\n\u001b[0;32m      7\u001b[0m \u001b[38;5;28;01mreturn\u001b[39;00m company_info\n",
      "\u001b[1;31mKeyError\u001b[0m: 'Company 1'"
     ]
    }
   ],
   "source": [
    "def get_company_domain(companies):\n",
    "    company_info = []\n",
    "    for company in companies:\n",
    "        company_name = company['name']\n",
    "        domain = company[company_name]  # Menggunakan key yang sesuai untuk mendapatkan nilai domain\n",
    "        company_info.append(f\"{company_name}: {domain}\")\n",
    "    return company_info\n",
    "\n",
    "# Data perusahaan (diperbaiki)\n",
    "companies = [\n",
    "    {\"name\": \"Company 1\", \"domain\": \"Retail\"},  # Menggunakan key 'domain' untuk menyimpan nilai domain\n",
    "    {\"name\": \"Company 3\", \"domain\": \"Healthcare\"},\n",
    "    {\"name\": \"Company 2\", \"domain\": \"Construction\"}\n",
    "]\n",
    "\n",
    "# Panggil fungsi dan cetak informasi perusahaan\n",
    "company_info = get_company_domain(companies)\n",
    "for info in company_info:\n",
    "    print(info)\n"
   ]
  },
  {
   "cell_type": "code",
   "execution_count": 10,
   "id": "673282ba",
   "metadata": {},
   "outputs": [
    {
     "name": "stdout",
     "output_type": "stream",
     "text": [
      "Company 1: Retail, relation: 2 clients\n",
      "Company 3: Healthcare, relation: 4 clients\n",
      "Company 2: Construction, relation: 3 clients\n"
     ]
    }
   ],
   "source": [
    "def get_company_domain(companies):\n",
    "    company_info = []\n",
    "    for company in companies:\n",
    "        company_name = company['name']\n",
    "        domain = company['domain']\n",
    "        num_clients = len(company_detail_list[company_name]['clients'])\n",
    "        company_info.append(f\"{company_name}: {domain}, relation: {num_clients} clients\")\n",
    "    return company_info\n",
    "\n",
    "# Data perusahaan\n",
    "companies = [\n",
    "    {\"name\": \"Company 1\", \"domain\": \"Retail\"},\n",
    "    {\"name\": \"Company 3\", \"domain\": \"Healthcare\"},\n",
    "    {\"name\": \"Company 2\", \"domain\": \"Construction\"}\n",
    "]\n",
    "\n",
    "# Panggil fungsi dan cetak informasi perusahaan\n",
    "company_info = get_company_domain(companies)\n",
    "for info in company_info:\n",
    "    print(info)\n"
   ]
  },
  {
   "cell_type": "code",
   "execution_count": 11,
   "id": "cfdfa129",
   "metadata": {},
   "outputs": [
    {
     "name": "stdout",
     "output_type": "stream",
     "text": [
      "Employees in the Construction domain:\n",
      "Tom Smith\n",
      "Andrew Sebastian\n"
     ]
    }
   ],
   "source": [
    "def get_employees():\n",
    "    employees = [\n",
    "        {\"full_name\": \"John Doe\", \"company\": \"Company 1\", \"domain\": \"Retail\"},\n",
    "        {\"full_name\": \"Tom Smith\", \"company\": \"Company 2\", \"domain\": \"Construction\"},\n",
    "        {\"full_name\": \"Andrew Sebastian\", \"company\": \"Company 2\", \"domain\": \"Construction\"}\n",
    "    ]\n",
    "    return employees\n",
    "\n",
    "def filter_employees_by_domain(employees, domain):\n",
    "    return [employee for employee in employees if employee['domain'] == domain]\n",
    "\n",
    "# Data karyawan\n",
    "employees = get_employees()\n",
    "\n",
    "# Panggil fungsi filter_employees_by_domain untuk mendapatkan karyawan dengan domain tertentu\n",
    "domain = \"Construction\"  # Ubah nilai domain sesuai kebutuhan\n",
    "employees_in_domain = filter_employees_by_domain(employees, domain)\n",
    "\n",
    "# Cetak karyawan dengan domain tertentu\n",
    "print(f\"Employees in the {domain} domain:\")\n",
    "for employee in employees_in_domain:\n",
    "    print(employee['full_name'])\n"
   ]
  },
  {
   "cell_type": "code",
   "execution_count": 12,
   "id": "2c403909",
   "metadata": {},
   "outputs": [
    {
     "name": "stdout",
     "output_type": "stream",
     "text": [
      "Company: Company 2\n",
      "Employees: Tom Smith, Andrew Sebastian\n",
      "Company: Company 1\n",
      "Employees: John Doe\n"
     ]
    }
   ],
   "source": [
    "def get_employees_by_company():\n",
    "    companies_with_employees = []\n",
    "    employees = [\n",
    "        {\"full_name\": \"John Doe\", \"company\": \"Company 1\", \"domain\": \"Retail\"},\n",
    "        {\"full_name\": \"Tom Smith\", \"company\": \"Company 2\", \"domain\": \"Construction\"},\n",
    "        {\"full_name\": \"Andrew Sebastian\", \"company\": \"Company 2\", \"domain\": \"Construction\"}\n",
    "    ]\n",
    "    \n",
    "    # Mengelompokkan karyawan berdasarkan perusahaan\n",
    "    for company in set(employee['company'] for employee in employees):\n",
    "        employees_in_company = [employee['full_name'] for employee in employees if employee['company'] == company]\n",
    "        companies_with_employees.append({\"company\": company, \"employees\": employees_in_company})\n",
    "    \n",
    "    return companies_with_employees\n",
    "\n",
    "# Panggil fungsi dan cetak informasi perusahaan dengan daftar karyawan\n",
    "companies_with_employees = get_employees_by_company()\n",
    "for company in companies_with_employees:\n",
    "    print(f\"Company: {company['company']}\")\n",
    "    print(f\"Employees: {', '.join(company['employees'])}\")\n"
   ]
  },
  {
   "cell_type": "code",
   "execution_count": 13,
   "id": "90779524",
   "metadata": {},
   "outputs": [
    {
     "ename": "ModuleNotFoundError",
     "evalue": "No module named 'pandas'",
     "output_type": "error",
     "traceback": [
      "\u001b[1;31m---------------------------------------------------------------------------\u001b[0m",
      "\u001b[1;31mModuleNotFoundError\u001b[0m                       Traceback (most recent call last)",
      "Cell \u001b[1;32mIn[13], line 1\u001b[0m\n\u001b[1;32m----> 1\u001b[0m \u001b[38;5;28;01mimport\u001b[39;00m \u001b[38;5;21;01mpandas\u001b[39;00m \u001b[38;5;28;01mas\u001b[39;00m \u001b[38;5;21;01mpd\u001b[39;00m\n\u001b[0;32m      2\u001b[0m data_startup \u001b[38;5;241m=\u001b[39m pd\u001b[38;5;241m.\u001b[39mread_csv(\u001b[38;5;124m'\u001b[39m\u001b[38;5;124m50_Startups.csv\u001b[39m\u001b[38;5;124m'\u001b[39m)\n\u001b[0;32m      3\u001b[0m data_startup\u001b[38;5;241m.\u001b[39msample(\u001b[38;5;241m7\u001b[39m)\n",
      "\u001b[1;31mModuleNotFoundError\u001b[0m: No module named 'pandas'"
     ]
    }
   ],
   "source": [
    "import pandas as pd\n",
    "data_startup = pd.read_csv('50_Startups.csv')\n",
    "data_startup.sample(7)"
   ]
  },
  {
   "cell_type": "code",
   "execution_count": null,
   "id": "b09aab73",
   "metadata": {},
   "outputs": [],
   "source": []
  }
 ],
 "metadata": {
  "kernelspec": {
   "display_name": "Python 3 (ipykernel)",
   "language": "python",
   "name": "python3"
  },
  "language_info": {
   "codemirror_mode": {
    "name": "ipython",
    "version": 3
   },
   "file_extension": ".py",
   "mimetype": "text/x-python",
   "name": "python",
   "nbconvert_exporter": "python",
   "pygments_lexer": "ipython3",
   "version": "3.11.2"
  }
 },
 "nbformat": 4,
 "nbformat_minor": 5
}
